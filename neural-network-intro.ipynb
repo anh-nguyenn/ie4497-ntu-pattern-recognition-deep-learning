{
  "nbformat": 4,
  "nbformat_minor": 0,
  "metadata": {
    "colab": {
      "provenance": []
    },
    "kernelspec": {
      "name": "python3",
      "display_name": "Python 3"
    },
    "language_info": {
      "name": "python"
    }
  },
  "cells": [
    {
      "cell_type": "markdown",
      "source": [
        "Introduction to Neural Networks and Deep Learning"
      ],
      "metadata": {
        "id": "lxqH_n1acXAZ"
      }
    },
    {
      "cell_type": "markdown",
      "source": [
        "## Sample PyTorch Implementation for neural network"
      ],
      "metadata": {
        "id": "QB0ECgpbcZPn"
      }
    },
    {
      "cell_type": "code",
      "source": [
        "import torch\n",
        "\n",
        "in_dim, out_dim = 100, 200\n",
        "\n",
        "linear = torch.nn.Linear(in_dim, out_dim)\n",
        "relu = torch.nn.ReLU()  # Activation function\n",
        "\n",
        "x = torch.randn(50, in_dim)  # shape=(50, 100)\n",
        "x = linear(x)  # shape=(50, 200)\n",
        "x = relu(x)  # Apply ReLU activation function, shape=(50, 200)\n",
        "\n",
        "print(x.shape)  # Output the shape of x after ReLU activation\n"
      ],
      "metadata": {
        "colab": {
          "base_uri": "https://localhost:8080/"
        },
        "id": "_tcnl7BscBM0",
        "outputId": "72a4b6a4-5dfe-451e-c7d4-fff0aec702e9"
      },
      "execution_count": null,
      "outputs": [
        {
          "output_type": "stream",
          "name": "stdout",
          "text": [
            "torch.Size([50, 200])\n"
          ]
        }
      ]
    },
    {
      "cell_type": "markdown",
      "source": [
        "# Python Implementation for 3-layer network"
      ],
      "metadata": {
        "id": "b0UIsFjEywrp"
      }
    },
    {
      "cell_type": "code",
      "source": [
        "import numpy as np\n",
        "\n",
        "# Define weight matrices and bias vectors\n",
        "w1 = np.array([[-1, 0], [0, -1], [1, 0], [0, 1]])\n",
        "w2 = np.array([[1, 1, 0, 0], [0, 0, 1, 1]])\n",
        "w3 = np.array([[1, 1]])\n",
        "b1 = np.array([0.5, 0.75, -1.5, -0.25])\n",
        "b2 = np.array([-1.5, -1.5])\n",
        "b3 = np.array([-0.5])\n",
        "p = np.array([0, 1]).reshape(-1, 1)  # Reshape input data to column vector\n",
        "\n",
        "# Forward pass\n",
        "h1 = (w1 @ p + b1.reshape(-1, 1)) >= 0\n",
        "h2 = (w2 @ h1 + b2.reshape(-1, 1)) >= 0\n",
        "y = (w3 @ h2 + b3.reshape(-1, 1)) >= 0\n",
        "\n",
        "print(\"Output:\", y)\n"
      ],
      "metadata": {
        "colab": {
          "base_uri": "https://localhost:8080/"
        },
        "id": "w1ajzNcIyoqI",
        "outputId": "8ec579cb-85a6-44c4-90fc-e1196ddcc381"
      },
      "execution_count": null,
      "outputs": [
        {
          "output_type": "stream",
          "name": "stdout",
          "text": [
            "Output: [[False]]\n"
          ]
        }
      ]
    },
    {
      "cell_type": "markdown",
      "source": [
        "# Example 2: XOR"
      ],
      "metadata": {
        "id": "AoDbyOQM2UQh"
      }
    },
    {
      "cell_type": "code",
      "source": [
        "w1 = np.array([[1,1], [-1,-1]])\n",
        "w2 = np.array([[1,1]])\n",
        "b1 = np.array([[-0.5, 1.5]])\n",
        "b2 = np.array([[-1.5]])\n",
        "\n",
        "p = np.array([0, 1]).reshape(-1, 1)\n",
        "h1 = (w1 @ p + b1.reshape(-1, 1)) >= 0\n",
        "y = (w2 @ h1 + b2.reshape(-1, 1)) >= 0\n",
        "print(\"Output: \", y)"
      ],
      "metadata": {
        "colab": {
          "base_uri": "https://localhost:8080/"
        },
        "id": "-BKRLJUK1m4V",
        "outputId": "346d36f9-88bd-4790-e62e-67a21b22288a"
      },
      "execution_count": null,
      "outputs": [
        {
          "output_type": "stream",
          "name": "stdout",
          "text": [
            "Output:  [[ True]]\n"
          ]
        }
      ]
    }
  ]
}