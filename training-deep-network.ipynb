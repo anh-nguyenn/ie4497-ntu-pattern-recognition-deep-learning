{
  "nbformat": 4,
  "nbformat_minor": 0,
  "metadata": {
    "colab": {
      "provenance": []
    },
    "kernelspec": {
      "name": "python3",
      "display_name": "Python 3"
    },
    "language_info": {
      "name": "python"
    }
  },
  "cells": [
    {
      "cell_type": "code",
      "source": [
        "import torch\n",
        "\n",
        "# Define the dimensions for input, hidden layers, and output\n",
        "x_dim, h_dim_1, h_dim_2, y_dim = 3, 4, 4, 1\n",
        "\n",
        "# Define three linear layers\n",
        "linear_1 = torch.nn.Linear(x_dim, h_dim_1)  # First linear layer: input to first hidden layer (R^3 -> R^4)\n",
        "linear_2 = torch.nn.Linear(h_dim_1, h_dim_2)  # Second linear layer: first hidden to second hidden layer (R^4 -> R^4)\n",
        "linear_3 = torch.nn.Linear(h_dim_2, y_dim)  # Third linear layer: second hidden to output layer (R^4 -> R^1)\n",
        "\n",
        "# The first dimension of x is usually the batch size.\n",
        "x = torch.randn([1, x_dim])  # Generate a random input vector of shape [1, 3]\n",
        "\n",
        "# Forward pass through the network:\n",
        "h1 = linear_1(x)  # Input through the first linear layer, result is shape [1, 4]\n",
        "h2 = linear_2(h1)  # Output of first layer through the second linear layer, result is shape [1, 4]\n",
        "y = linear_3(h2)  # Output of second layer through the third (output) linear layer, result is shape [1, 1]\n",
        "print(\"Input:\", x)\n",
        "print(\"Output:\", y)"
      ],
      "metadata": {
        "id": "AADpeEemoHWg",
        "colab": {
          "base_uri": "https://localhost:8080/"
        },
        "outputId": "b7f44aac-2c18-473f-fd6e-4b1c81a49ffd"
      },
      "execution_count": null,
      "outputs": [
        {
          "output_type": "stream",
          "name": "stdout",
          "text": [
            "Input: tensor([[0.6568, 1.9173, 0.3077]])\n",
            "Output: tensor([[-0.1179]], grad_fn=<AddmmBackward0>)\n"
          ]
        }
      ]
    },
    {
      "cell_type": "markdown",
      "source": [
        "# Step:\n",
        "Import PyTorch: You start by importing PyTorch, which is a powerful library for deep learning that provides a wide range of tools and modules to construct and train neural networks.\n",
        "\n",
        "Define Dimensions: You define the dimensions of the input layer (x_dim), two hidden layers (h_dim_1 and h_dim_2), and the output layer (y_dim). This sets up the size of the network.\n",
        "\n",
        "Construct Linear Layers: You create three linear (fully connected) layers using torch.nn.Linear. Each layer is defined to take a specific size of input and transform it to a specific size of output, matching the dimensions you've previously defined.\n",
        "\n",
        "Create an Input Tensor: You generate a random input tensor x with a shape of [1, x_dim], which simulates a single instance (or batch of size 1) with the input dimensionality you specified. This tensor represents the input data that you feed into the network.\n",
        "\n",
        "Forward Pass: You sequentially pass the input x through the three linear layers (linear_1, linear_2, linear_3) using function calls. At each step, the output of the previous layer is used as the input for the next layer. The process transforms the input from the original space (R^3) to the final output space (R^1).\n",
        "\n",
        "h1 = linear_1(x): Passes the input x through the first linear layer, producing the first hidden layer's activation h1.\n",
        "h2 = linear_2(h1): Passes h1 through the second linear layer, producing the second hidden layer's activation h2.\n",
        "y = linear_3(h2): Finally, h2 is passed through the third linear layer to produce the output y.\n",
        "This demonstrates a basic forward pass through a neural network without any non-linear activation functions. In practice, to enable the network to learn complex patterns and non-linear relationships, activation functions (like ReLU, sigmoid, etc.) are applied to the outputs of hidden layers before passing them to subsequent layers."
      ],
      "metadata": {
        "id": "je9XEjWkDp-w"
      }
    },
    {
      "cell_type": "markdown",
      "source": [
        "# Softmax Layer"
      ],
      "metadata": {
        "id": "glEZ1FLco-zY"
      }
    },
    {
      "cell_type": "code",
      "source": [
        "# Define a tensor of values\n",
        "x = torch.tensor([3.0, 1.0, -3.0])  # It's recommended to directly define it as float\n",
        "\n",
        "# Apply the Softmax function across dimension 0 (since x has only one dimension)\n",
        "softmax = torch.nn.Softmax(dim=0)\n",
        "softmax_values = softmax(x)\n",
        "\n",
        "# Print the softmax values\n",
        "print(softmax_values)  # This will print the probabilities\n",
        "\n",
        "# Verifying that the sum of softmax values equals 1\n",
        "sum_of_softmax = torch.sum(softmax_values)\n",
        "print(sum_of_softmax)  # This will print a tensor with the value 1.0\n"
      ],
      "metadata": {
        "colab": {
          "base_uri": "https://localhost:8080/"
        },
        "id": "4ZdWmJBMolj6",
        "outputId": "0d6797af-5766-4acb-cb1d-cb3d26e9ba5e"
      },
      "execution_count": null,
      "outputs": [
        {
          "output_type": "stream",
          "name": "stdout",
          "text": [
            "tensor([0.8789, 0.1189, 0.0022])\n",
            "tensor(1.)\n"
          ]
        }
      ]
    },
    {
      "cell_type": "markdown",
      "source": [
        "# Let's break down the changes and important points:\n",
        "\n",
        "Tensor Data Type: I've initialized the tensor x with floating point values directly. PyTorch's operations, including Softmax, typically require inputs to be of a floating point type (torch.float32 or torch.float64).\n",
        "\n",
        "Softmax Module: The torch.nn.Softmax class is used to create a Softmax module. When instantiating this module, you must specify the dimension dim over which the softmax operation is applied. Since your tensor x is 1-dimensional, using dim=0 applies softmax across this dimension.\n",
        "\n",
        " Applying Softmax: The softmax module is then applied to the tensor x, converting its values into probabilities that sum up to 1.\n",
        "\n",
        "Sum of Softmax Values: Finally, by summing up the softmax values with torch.sum(softmax_values), you verify that the probabilities indeed sum up to 1.0."
      ],
      "metadata": {
        "id": "Rpn-BwYiIUCE"
      }
    },
    {
      "cell_type": "markdown",
      "source": [
        "# ReLU and Leaky ReLU"
      ],
      "metadata": {
        "id": "LGYj1Nyuj_KH"
      }
    },
    {
      "cell_type": "code",
      "source": [
        "import numpy as np\n",
        "import matplotlib.pyplot as plt\n",
        "\n",
        "# Define the ReLU activation function\n",
        "def relu(x):\n",
        "    return np.maximum(0, x)\n",
        "\n",
        "# Define the Leaky ReLU activation function\n",
        "def leaky_relu(x, alpha=0.01):\n",
        "    return np.where(x > 0, x, x * alpha)\n",
        "\n",
        "# Input data\n",
        "x_values = np.linspace(-10, 10, 400)\n",
        "\n",
        "# Apply the ReLU function to the input data\n",
        "relu_values = relu(x_values)\n",
        "\n",
        "# Apply the Leaky ReLU function to the input data with alpha=0.01\n",
        "leaky_relu_values = leaky_relu(x_values, alpha=0.01)\n",
        "\n",
        "# Plot the functions for comparison\n",
        "plt.figure(figsize=(14, 7))\n",
        "\n",
        "# ReLU plot\n",
        "plt.subplot(1, 2, 1)\n",
        "plt.plot(x_values, relu_values, label='ReLU', color='blue')\n",
        "plt.title('ReLU Function')\n",
        "plt.xlabel('x')\n",
        "plt.ylabel('f(x)')\n",
        "plt.grid()\n",
        "plt.legend()\n",
        "\n",
        "# Leaky ReLU plot\n",
        "plt.subplot(1, 2, 2)\n",
        "plt.plot(x_values, leaky_relu_values, label='Leaky ReLU', color='green')\n",
        "plt.title('Leaky ReLU Function')\n",
        "plt.xlabel('x')\n",
        "plt.ylabel('f(x)')\n",
        "plt.grid()\n",
        "plt.legend()\n",
        "\n",
        "# Show plots\n",
        "plt.show()\n"
      ],
      "metadata": {
        "colab": {
          "base_uri": "https://localhost:8080/",
          "height": 434
        },
        "id": "m-DE9oS1kCDw",
        "outputId": "480256f8-d9be-419a-8800-7af4f5fb9fd6"
      },
      "execution_count": null,
      "outputs": [
        {
          "output_type": "display_data",
          "data": {
            "text/plain": [
              "<Figure size 1400x700 with 2 Axes>"
            ],
            "image/png": "[encoded data removed]"
          },
          "metadata": {}
        }
      ]
    },
    {
      "cell_type": "code",
      "source": [
        "# Example input array of linear activations from some neural network layer\n",
        "linear_activations = np.array([-1.5, -0.5, 0, 0.5, 1.5])\n",
        "\n",
        "# Applying ReLU to the example activations\n",
        "relu_output = relu(linear_activations)\n",
        "\n",
        "# Applying Leaky ReLU to the example activations\n",
        "leaky_relu_output = leaky_relu(linear_activations)\n",
        "\n",
        "# Show the input activations and the outputs after applying ReLU and Leaky ReLU\n",
        "example_outputs = {\n",
        "    \"Input Activations\": linear_activations,\n",
        "    \"ReLU Output\": relu_output,\n",
        "    \"Leaky ReLU Output\": leaky_relu_output\n",
        "}\n",
        "\n",
        "example_outputs\n"
      ],
      "metadata": {
        "colab": {
          "base_uri": "https://localhost:8080/"
        },
        "id": "TPs8NE18kI2J",
        "outputId": "04b542ea-dc39-4a43-af31-49bd7f00aefb"
      },
      "execution_count": null,
      "outputs": [
        {
          "output_type": "execute_result",
          "data": {
            "text/plain": [
              "{'Input Activations': array([-1.5, -0.5,  0. ,  0.5,  1.5]),\n",
              " 'ReLU Output': array([0. , 0. , 0. , 0.5, 1.5]),\n",
              " 'Leaky ReLU Output': array([-0.015, -0.005,  0.   ,  0.5  ,  1.5  ])}"
            ]
          },
          "metadata": {},
          "execution_count": 2
        }
      ]
    },
    {
      "cell_type": "markdown",
      "source": [
        "#### Exlain: if we were training a network on a dataset where the presence of a feature is indicated by a positive value and the absence by a negative value, using ReLU could completely ignore the features that are absent (since it would set them to zero). However, using Leaky ReLU, the network still gets some information about the absence of features due to the small negative outputs for negative inputs, which could lead to more nuanced learning. This could be particularly helpful when dealing with sparse data or when trying to mitigate the issue of neurons that stop learning because they always output zero (a problem sometimes referred to as \"dying ReLU\")"
      ],
      "metadata": {
        "id": "enKZm-jSkVc8"
      }
    },
    {
      "cell_type": "markdown",
      "source": [
        "# Data Preprocessing"
      ],
      "metadata": {
        "id": "m06RmIA7pKZ_"
      }
    },
    {
      "cell_type": "code",
      "source": [
        "import torch\n",
        "\n",
        "# Generate a random tensor with 100 elements from a normal distribution\n",
        "x = torch.randn([100])\n",
        "\n",
        "# Calculate and print the mean of the tensor; it's close to 0 due to the distribution, but not exactly 0\n",
        "print(x.mean().item())  # .item() converts a one-element tensor to a Python scalar\n",
        "\n",
        "# Calculate and print the variance of the tensor; for a standard normal distribution, this is close to 1\n",
        "print(x.var().item())  # .item() here again converts the tensor to a scalar\n",
        "\n",
        "# Standardization\n",
        "# Subtract the mean from each element and divide by the standard deviation\n",
        "x_standardized = (x - x.mean()) / x.std()\n",
        "\n",
        "# After standardization, the mean of the tensor should be 0 and variance should be 1\n",
        "# This is because standardization transforms the data to have these properties\n",
        "print(x_standardized.mean().item(), x_standardized.var().item())  # Convert to scalars for display\n",
        "\n",
        "# Normalization\n",
        "# Subtract the minimum value from each element and divide by the range (max - min)\n",
        "x_normalized = (x - x.min()) / (x.max() - x.min())\n",
        "\n",
        "# After normalization, the minimum value in the tensor should be 0 and the maximum should be 1\n",
        "# This scales the data to be within this range, which can be useful for certain models and comparisons\n",
        "print(x_normalized.min().item(), x_normalized.max().item())  # Convert to scalars for display\n"
      ],
      "metadata": {
        "colab": {
          "base_uri": "https://localhost:8080/"
        },
        "id": "bG6uvfuSpM6h",
        "outputId": "fe875979-842f-436a-b172-2432816cf4ba"
      },
      "execution_count": null,
      "outputs": [
        {
          "output_type": "stream",
          "name": "stdout",
          "text": [
            "0.21332895755767822\n",
            "0.8949701189994812\n",
            "1.668930060816365e-08 1.0\n",
            "0.0 1.0\n"
          ]
        }
      ]
    },
    {
      "cell_type": "markdown",
      "source": [
        "# Training NNs for Classification"
      ],
      "metadata": {
        "id": "3-ohoYcepbA6"
      }
    },
    {
      "cell_type": "code",
      "source": [
        "import torch\n",
        "from torch.nn.functional import cross_entropy\n",
        "\n",
        "# Example logits output from a neural network's final layer for a 4-class classification problem\n",
        "# These are raw scores (not probabilities)\n",
        "logits = torch.tensor([[0.8, 0.1, 0.06, 0.04]])\n",
        "\n",
        "# Correct class index for this example (suppose the correct class is 0)\n",
        "target = torch.tensor([0])\n",
        "\n",
        "# Calculate cross-entropy loss\n",
        "loss = cross_entropy(logits, target)\n",
        "\n",
        "print(loss.item())\n"
      ],
      "metadata": {
        "colab": {
          "base_uri": "https://localhost:8080/"
        },
        "id": "VqAZf71CpdLL",
        "outputId": "67843e12-92be-4d5f-a11b-3648e6737e63"
      },
      "execution_count": null,
      "outputs": [
        {
          "output_type": "stream",
          "name": "stdout",
          "text": [
            "0.8925576210021973\n"
          ]
        }
      ]
    },
    {
      "cell_type": "code",
      "source": [
        "import torch\n",
        "from torch.nn.functional import cross_entropy\n",
        "y = torch.tensor([0.8, 0.1, 0.06, 0.04])\n",
        "\n",
        "print(cross_entropy(y, torch.tensor(0)))\n",
        "print(cross_entropy(y, torch.tensor(1)))"
      ],
      "metadata": {
        "colab": {
          "base_uri": "https://localhost:8080/"
        },
        "id": "Rph0nzviORC2",
        "outputId": "a6b3d73a-a96d-47c3-9a88-1c9bef135e7f"
      },
      "execution_count": null,
      "outputs": [
        {
          "output_type": "stream",
          "name": "stdout",
          "text": [
            "tensor(0.8926)\n",
            "tensor(1.5926)\n"
          ]
        }
      ]
    },
    {
      "cell_type": "markdown",
      "source": [
        "# Barebones PyTorch Backpropagation"
      ],
      "metadata": {
        "id": "00dRF5lKp9By"
      }
    },
    {
      "cell_type": "code",
      "source": [
        "import torch\n",
        "import torch.nn as nn\n",
        "import torch.optim as optim\n",
        "\n",
        "# Define our dataset, the XOR problem\n",
        "X = torch.tensor([[0, 0], [0, 1], [1, 0], [1, 1]], dtype=torch.float)\n",
        "Y = torch.tensor([0, 1, 1, 0], dtype=torch.long)  # Use long for CrossEntropyLoss\n",
        "\n",
        "# Define a simple neural network with one hidden layer\n",
        "class XORNet(nn.Module):\n",
        "    def __init__(self):\n",
        "        super(XORNet, self).__init__()\n",
        "        # Define layers\n",
        "        self.hidden = nn.Linear(2, 2)  # First layer with 2 inputs and 2 neurons\n",
        "        self.out = nn.Linear(2, 2)     # Output layer with 2 inputs and 2 outputs\n",
        "\n",
        "    def forward(self, x):\n",
        "        # Forward pass through the network\n",
        "        x = torch.sigmoid(self.hidden(x))  # Activation function for hidden layer\n",
        "        x = self.out(x)  # Output layer does not need activation for CrossEntropyLoss\n",
        "        return x\n",
        "\n",
        "# Instantiate the network, loss function, and optimizer\n",
        "network = XORNet()\n",
        "loss_fn = nn.CrossEntropyLoss()\n",
        "optimizer = optim.SGD(network.parameters(), lr=0.1)\n",
        "\n",
        "# Training loop\n",
        "epochs = 50\n",
        "for epoch in range(epochs):\n",
        "    for x, y in zip(X, Y):\n",
        "        optimizer.zero_grad()    # Reset gradients\n",
        "        y_pred = network(x)      # Forward propagate x\n",
        "        loss = loss_fn(y_pred.unsqueeze(0), y.unsqueeze(0))  # Evaluate loss, adjust tensor dimensions\n",
        "        loss.backward()          # Backpropagate the error\n",
        "        optimizer.step()         # Update weights with optimizer\n",
        "\n",
        "# Final loss after training\n",
        "print(f\"Final loss: {loss.item()}\")\n"
      ],
      "metadata": {
        "colab": {
          "base_uri": "https://localhost:8080/"
        },
        "id": "X7O2jCa_nnAI",
        "outputId": "cc13737a-2396-44c1-ae13-5134d9482e0a"
      },
      "execution_count": null,
      "outputs": [
        {
          "output_type": "stream",
          "name": "stdout",
          "text": [
            "Final loss: 0.7480970621109009\n"
          ]
        }
      ]
    },
    {
      "cell_type": "code",
      "source": [
        "X = torch.tensor([[0, 0], [0, 1], [1, 0], [1, 1]], dtype=torch.float)\n",
        "Y = torch.tensor([0, 1, 1, 0], dtype=int)\n",
        "print(list(zip(X,Y)))"
      ],
      "metadata": {
        "colab": {
          "base_uri": "https://localhost:8080/"
        },
        "id": "YvuRSXK-WMaf",
        "outputId": "2439a964-9ffe-495c-937b-ca8292c71478"
      },
      "execution_count": null,
      "outputs": [
        {
          "output_type": "stream",
          "name": "stdout",
          "text": [
            "[(tensor([0., 0.]), tensor(0)), (tensor([0., 1.]), tensor(1)), (tensor([1., 0.]), tensor(1)), (tensor([1., 1.]), tensor(0))]\n"
          ]
        }
      ]
    },
    {
      "cell_type": "markdown",
      "source": [
        "# Python Program for a 1-2-1 neural network, trained with BP vs BP + momentum"
      ],
      "metadata": {
        "id": "nPlE7K6VqDbl"
      }
    },
    {
      "cell_type": "code",
      "execution_count": null,
      "metadata": {
        "colab": {
          "base_uri": "https://localhost:8080/"
        },
        "id": "DzcJdcr7nTw3",
        "outputId": "ff30b4c7-c73a-49a3-c281-e484dbfc7932"
      },
      "outputs": [
        {
          "output_type": "stream",
          "name": "stdout",
          "text": [
            "Epoch 1000, Loss: 0.008283837276814018\n",
            "Epoch 2000, Loss: 0.0025292357578898216\n",
            "Epoch 3000, Loss: 0.001407009274193796\n",
            "Epoch 4000, Loss: 0.0009530053358807055\n",
            "Epoch 5000, Loss: 0.0007119044431169263\n",
            "Epoch 6000, Loss: 0.0005638900838255108\n",
            "Epoch 7000, Loss: 0.0004644084386938647\n",
            "Epoch 8000, Loss: 0.0003932639961462521\n",
            "Epoch 9000, Loss: 0.00034003020396632284\n",
            "Epoch 10000, Loss: 0.00029880169643106106\n"
          ]
        }
      ],
      "source": [
        "import numpy as np  # Import NumPy for numerical computations and matrix operations\n",
        "\n",
        "class NeuralNetwork:\n",
        "    def __init__(self, input_size, hidden_size, output_size, learning_rate, momentum=None):\n",
        "        # Constructor for the neural network. Initializes network architecture and learning parameters.\n",
        "        self.input_size = input_size  # Number of neurons in input layer\n",
        "        self.hidden_size = hidden_size  # Number of neurons in hidden layer\n",
        "        self.output_size = output_size  # Number of neurons in output layer\n",
        "        self.learning_rate = learning_rate  # Learning rate for weight updates\n",
        "        self.momentum = momentum  # Momentum factor for velocity updates in training\n",
        "\n",
        "        # Initialize weights for input-to-hidden and hidden-to-output layers with random values\n",
        "        self.weights_input_hidden = np.random.randn(self.input_size, self.hidden_size)\n",
        "        self.bias_hidden = np.zeros((1, self.hidden_size))  # Initialize biases for hidden layer to zero\n",
        "        self.weights_hidden_output = np.random.randn(self.hidden_size, self.output_size)\n",
        "        self.bias_output = np.zeros((1, self.output_size))  # Initialize biases for output layer to zero\n",
        "\n",
        "        # Initialize velocity matrices for momentum-based updates, if momentum is specified\n",
        "        if self.momentum is not None:\n",
        "            self.velocity_input_hidden = np.zeros((self.input_size, self.hidden_size))\n",
        "            self.velocity_hidden_output = np.zeros((self.hidden_size, self.output_size))\n",
        "        else:\n",
        "            self.velocity_input_hidden = self.velocity_hidden_output = None\n",
        "\n",
        "    def sigmoid(self, x):\n",
        "        # Sigmoid activation function: f(x) = 1 / (1 + e^-x)\n",
        "        return 1 / (1 + np.exp(-x))\n",
        "\n",
        "    def sigmoid_derivative(self, x):\n",
        "        # Derivative of the sigmoid function: f'(x) = f(x) * (1 - f(x))\n",
        "        return x * (1 - x)\n",
        "\n",
        "    def forward_pass(self, X):\n",
        "        # Perform a forward pass through the network: input -> hidden -> output\n",
        "        self.hidden_output = self.sigmoid(np.dot(X, self.weights_input_hidden) + self.bias_hidden)\n",
        "        self.output = self.sigmoid(np.dot(self.hidden_output, self.weights_hidden_output) + self.bias_output)\n",
        "        return self.output\n",
        "\n",
        "    def backward_pass(self, X, y, output):\n",
        "        # Backward pass for error calculation and weight update\n",
        "        # Calculate error in output\n",
        "        output_error = y - output\n",
        "        output_delta = output_error * self.sigmoid_derivative(output)\n",
        "\n",
        "        # Calculate error in hidden layer\n",
        "        hidden_error = output_delta.dot(self.weights_hidden_output.T)\n",
        "        hidden_delta = hidden_error * self.sigmoid_derivative(self.hidden_output)\n",
        "\n",
        "        # Update weights and biases using the calculated deltas\n",
        "        # If momentum is used, update velocities and apply them to weights and biases\n",
        "        if self.momentum is not None:\n",
        "            self.velocity_input_hidden = self.momentum * self.velocity_input_hidden + self.learning_rate * X.T.dot(hidden_delta)\n",
        "            self.velocity_hidden_output = self.momentum * self.velocity_hidden_output + self.learning_rate * self.hidden_output.T.dot(output_delta)\n",
        "            self.weights_input_hidden += self.velocity_input_hidden\n",
        "            self.weights_hidden_output += self.velocity_hidden_output\n",
        "        else:\n",
        "            self.weights_input_hidden += self.learning_rate * X.T.dot(hidden_delta)\n",
        "            self.weights_hidden_output += self.learning_rate * self.hidden_output.T.dot(output_delta)\n",
        "\n",
        "        # Update biases for both layers\n",
        "        self.bias_hidden += np.sum(hidden_delta, axis=0, keepdims=True) * self.learning_rate\n",
        "        self.bias_output += np.sum(output_delta, axis=0, keepdims=True) * self.learning_rate\n",
        "\n",
        "        return output_error ** 2  # Return squared error for monitoring\n",
        "\n",
        "    def train(self, X, y, epochs=10000):\n",
        "        # Training loop for the network\n",
        "        for epoch in range(epochs):\n",
        "            output = self.forward_pass(X)  # Compute network output\n",
        "            loss = self.backward_pass(X, y, output)  # Adjust weights based on error\n",
        "            if epoch % 1000 == 999:\n",
        "                print(f\"Epoch {epoch+1}, Loss: {np.mean(loss)}\")  # Print loss every 1000 epochs\n",
        "\n",
        "# Sample input and output for training\n",
        "X = np.array([[0], [1]])\n",
        "y = np.array([[0], [1]])\n",
        "\n",
        "# Create and train the neural network\n",
        "nn = NeuralNetwork(input_size=1, hidden_size=2, output_size=1, learning_rate=0.1, momentum=0.9)\n",
        "nn.train(X, y)  # Train the network with the specified data and parameters\n"
      ]
    },
    {
      "cell_type": "markdown",
      "source": [
        "# Learning Rate Scheduling"
      ],
      "metadata": {
        "id": "5JQ6G9qNqZKc"
      }
    },
    {
      "cell_type": "code",
      "source": [
        "optimizer = torch.optim.SGD(network.parameters(), lr=0.1)\n",
        "scheduler = torch.optim.lr_scheduler.ExponentialLR(optimizer, gamma=0.9)\n",
        "criterion = torch.nn.CrossEntropyLoss()\n",
        "\n",
        "for epoch in range(epochs):\n",
        "    for x, y in zip(X, Y):\n",
        "        optimizer.zero_grad()  # Reset Gradients\n",
        "        y_pred = network(x)\n",
        "        loss = criterion(y_pred, y)\n",
        "        loss.backward()  # Backpropagate, calculate gradients\n",
        "        optimizer.step()  # Update Weights with LR\n",
        "    scheduler.step()  # Reduce LR for each epoch, placed correctly here\n"
      ],
      "metadata": {
        "id": "3BStFMGSqZb4"
      },
      "execution_count": null,
      "outputs": []
    }
  ]
}